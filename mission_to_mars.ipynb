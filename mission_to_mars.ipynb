{
 "cells": [
  {
   "cell_type": "code",
   "execution_count": 26,
   "metadata": {},
   "outputs": [
    {
     "name": "stderr",
     "output_type": "stream",
     "text": [
      "[WDM] - Current google-chrome version is 87.0.4280\n",
      "[WDM] - Get LATEST driver version for 87.0.4280\n",
      "[WDM] - Driver [C:\\Users\\sabun\\.wdm\\drivers\\chromedriver\\win32\\87.0.4280.20\\chromedriver.exe] found in cache\n"
     ]
    },
    {
     "name": "stdout",
     "output_type": "stream",
     "text": [
      " \n"
     ]
    }
   ],
   "source": [
    "import pandas as pd\n",
    "from splinter import Browser\n",
    "from bs4 import BeautifulSoup\n",
    "from webdriver_manager.chrome import ChromeDriverManager\n",
    "import time\n",
    "\n",
    "# Create an executable path\n",
    "executable_path = {\"executable_path\": ChromeDriverManager().install()}\n",
    "browser = Browser('chrome', **executable_path, headless=False)"
   ]
  },
  {
   "cell_type": "code",
   "execution_count": 27,
   "metadata": {},
   "outputs": [
    {
     "name": "stdout",
     "output_type": "stream",
     "text": [
      "Hear Audio From NASA's Perseverance As It Travels Through Deep Space\n",
      "The first to be rigged with microphones, the agency's latest Mars rover picked up the subtle sounds of its own inner workings during interplanetary flight.\n"
     ]
    }
   ],
   "source": [
    "#part 1 Retriving the news Article title and paragragph\n",
    "#reference Day 2 most activities\n",
    "marURL= 'https://mars.nasa.gov/news/'\n",
    "browser.visit(marURL)\n",
    "\n",
    "time.sleep(1)\n",
    "\n",
    "# HTML object\n",
    "html = browser.html\n",
    "# Parse HTML with Beautiful Soup\n",
    "soup = BeautifulSoup(html, 'html.parser')\n",
    "item_list = soup.find('ul', class_ = 'item_list')\n",
    "slide = item_list.find('li', class_ = 'slide')\n",
    "#Activity 7\n",
    "#get title\n",
    "news_title = slide.find('div', class_ = 'content_title').text\n",
    "#get paragragp\n",
    "news_p = slide.find('div', class_ = 'article_teaser_body').text\n",
    "\n",
    "#verigy they are correct\n",
    "print(news_title)\n",
    "print(news_p)"
   ]
  },
  {
   "cell_type": "code",
   "execution_count": 28,
   "metadata": {
    "scrolled": true
   },
   "outputs": [
    {
     "name": "stdout",
     "output_type": "stream",
     "text": [
      "https://www.jpl.nasa.gov/spaceimages/images/largesize/PIA17563_hires.jpg\n"
     ]
    }
   ],
   "source": [
    "#Part 2 Getting Photo from jpl\n",
    "\n",
    "jplURL = 'https://www.jpl.nasa.gov/spaceimages/?search=&category=Mars'\n",
    "browser.visit(jplURL)\n",
    "\n",
    "time.sleep(1)\n",
    "\n",
    "# Navigate the site by clicking on full image and then more info\n",
    "browser.click_link_by_partial_text('FULL IMAGE')\n",
    "browser.click_link_by_partial_text('more info')\n",
    "\n",
    "# Scrape to collect the jpg ending url and add it with an f-string to the home address\n",
    "html = browser.html\n",
    "soup = BeautifulSoup(html, 'html.parser')\n",
    "figure = soup.find('figure', class_='lede')\n",
    "jpg = figure.find('a')['href']\n",
    "featured_image_url = f'https://www.jpl.nasa.gov{jpg}'\n",
    "print(featured_image_url)"
   ]
  },
  {
   "cell_type": "code",
   "execution_count": null,
   "metadata": {},
   "outputs": [],
   "source": [
    "#Part 3 Mars Fact\n",
    "#Day 2 Activity 9-10\n",
    "\n",
    "factURL = 'https://space-facts.com/mars/'\n",
    "tables = pd.read_html(factURL)\n",
    "#checking what kind of tables we have we will pick either the first one or the second one\n",
    "tables\n",
    "\n"
   ]
  },
  {
   "cell_type": "code",
   "execution_count": null,
   "metadata": {},
   "outputs": [],
   "source": [
    "marsTables = tables[0]\n",
    "\n",
    "#assigning labesl \n",
    "marsTables.columns = ['', 'Mars']\n",
    "marsTables\n"
   ]
  },
  {
   "cell_type": "code",
   "execution_count": null,
   "metadata": {},
   "outputs": [],
   "source": [
    "html_table = marsTables.to_html()"
   ]
  },
  {
   "cell_type": "code",
   "execution_count": null,
   "metadata": {},
   "outputs": [],
   "source": [
    "\n",
    "#Part 4 Hemisphere Image\n",
    "hemisphere_image_urls = []\n",
    "hemURL = 'https://astrogeology.usgs.gov/search/results?q=hemisphere+enhanced&k1=target&v1=Mars'\n",
    "browser.visit(hemURL)\n",
    "# HTML object\n",
    "html = browser.html\n",
    "# Parse HTML with Beautiful Soup\n",
    "soup = BeautifulSoup(html, 'html.parser')\n",
    "item = soup.find('div', class_ = 'collapsible results').find_all('div', class_ = 'item')\n",
    "\n",
    "for hem in item:\n",
    "    #image title\n",
    "    imgTitle = hem.find('h3').text\n",
    "    #click on the link to get larger images size\n",
    "    browser.click_link_by_partial_text(imgTitle)\n",
    "    # HTML object\n",
    "    html = browser.html\n",
    "    # Parse HTML with Beautiful Soup\n",
    "    soup = BeautifulSoup(html, 'html.parser')\n",
    "\n",
    "    imgURL = soup.find('div', class_ = 'downloads').find('li').find('a')['href']\n",
    "    \n",
    "    dictionary = {\"Title\" : imgTitle, \"img_url\": imgURL}\n",
    "    hemisphere_image_urls.append(dictionary)\n",
    "    #moving back on the browser https://splinter.readthedocs.io/en/latest/browser.html\n",
    "    browser.back()\n",
    "\n",
    "\n",
    "\n",
    "\n",
    "print(hemisphere_image_urls)"
   ]
  },
  {
   "cell_type": "code",
   "execution_count": null,
   "metadata": {},
   "outputs": [],
   "source": []
  }
 ],
 "metadata": {
  "kernelspec": {
   "display_name": "Python 3",
   "language": "python",
   "name": "python3"
  },
  "language_info": {
   "codemirror_mode": {
    "name": "ipython",
    "version": 3
   },
   "file_extension": ".py",
   "mimetype": "text/x-python",
   "name": "python",
   "nbconvert_exporter": "python",
   "pygments_lexer": "ipython3",
   "version": "3.7.6"
  }
 },
 "nbformat": 4,
 "nbformat_minor": 4
}
